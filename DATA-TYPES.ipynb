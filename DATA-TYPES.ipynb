{
 "cells": [
  {
   "cell_type": "code",
   "execution_count": null,
   "metadata": {},
   "outputs": [],
   "source": [
    "a = 3\n",
    "b = 2.9\n",
    "print(type(a))\n",
    "print(type(b))"
   ]
  },
  {
   "cell_type": "code",
   "execution_count": null,
   "metadata": {},
   "outputs": [],
   "source": [
    "a = 1658.500\n",
    "b = 1657.500\n",
    "print(int(a))\n",
    "print(int(b))"
   ]
  },
  {
   "cell_type": "code",
   "execution_count": null,
   "metadata": {},
   "outputs": [],
   "source": [
    "b = True\n",
    "print(type(b))"
   ]
  },
  {
   "cell_type": "code",
   "execution_count": null,
   "metadata": {},
   "outputs": [],
   "source": [
    "print(int(True))\n",
    "print(int(False))"
   ]
  },
  {
   "cell_type": "code",
   "execution_count": null,
   "metadata": {},
   "outputs": [],
   "source": [
    "a = int(input(\"enter a number: \"))\n",
    "b = True\n",
    "c = False\n",
    "sum1 = a + b\n",
    "sum2 = a + c\n",
    "print(sum1, sum2)"
   ]
  },
  {
   "cell_type": "code",
   "execution_count": null,
   "metadata": {},
   "outputs": [],
   "source": [
    "str1 = 'hello'\n",
    "str2 = \"hello\"\n",
    "str3 = '''hello'''\n",
    "print(str1, str2, str3)"
   ]
  },
  {
   "cell_type": "code",
   "execution_count": null,
   "metadata": {},
   "outputs": [],
   "source": [
    "num = 146984268412698412684126842687459874269842\n",
    "print(type(num))"
   ]
  },
  {
   "cell_type": "code",
   "execution_count": null,
   "metadata": {},
   "outputs": [],
   "source": [
    "a1=50\n",
    "a2=\"50\"\n",
    "b1=2\n",
    "b2=\"2\"\n",
    "print(a1+b1)\n",
    "print(a2+b2)"
   ]
  },
  {
   "cell_type": "code",
   "execution_count": null,
   "metadata": {},
   "outputs": [],
   "source": [
    "u = input(\"enter name of user: \")\n",
    "n = int(input(\"enter number of lines of code written: \"))\n",
    "print(f'Congratulations, {u}! You have written {n} lines of code!)"
   ]
  },
  {
   "cell_type": "code",
   "execution_count": null,
   "metadata": {},
   "outputs": [],
   "source": [
    "a = \"gOOD MORNINg\"\n",
    "print(a.title())\n",
    "print(a.upper())"
   ]
  },
  {
   "cell_type": "code",
   "execution_count": null,
   "metadata": {},
   "outputs": [],
   "source": [
    "email = input(\"enter email id of user: \")\n",
    "q = email.split('@')\n",
    "print(q)\n",
    "# p = q.remove(\"gmail.com\")\n",
    "# print(p)"
   ]
  },
  {
   "cell_type": "code",
   "execution_count": null,
   "metadata": {},
   "outputs": [],
   "source": [
    "\"The sentence will break into a list NOW!\".split()\n",
    "s1 = \"This is too good!\"\n",
    "s2 = s1.replace(\"too\", \"NOT\")\n",
    "print(s2)"
   ]
  },
  {
   "cell_type": "code",
   "execution_count": null,
   "metadata": {},
   "outputs": [],
   "source": [
    "str = input(\"Enter anything: \")\n",
    "print(str.isalnum)\n",
    "print(str.isalpha)\n",
    "print(str.isdigit)\n",
    "print(str.istitle)\n",
    "print(str.isupper)\n",
    "print(str.islower)\n",
    "print(str.isspace)\n",
    "print(str.endswith('s'))\n",
    "print(str.startswith('S'))"
   ]
  },
  {
   "cell_type": "code",
   "execution_count": null,
   "metadata": {},
   "outputs": [],
   "source": [
    "a = int(input(\"Enter the value of a: \"))\n",
    "b = int(input(\"Enter the value of b: \"))\n",
    "add=a+b\n",
    "sub=a-b\n",
    "mult=a*b\n",
    "div=a/b\n",
    "print(\"sum of the numbers:\", add)\n",
    "print(\"difference of the numbers:\", sub)\n",
    "print(\"product of the numbers:\", mult)\n",
    "print(\"ratio of the numbers:\", div)\n"
   ]
  },
  {
   "cell_type": "code",
   "execution_count": 9,
   "metadata": {},
   "outputs": [
    {
     "name": "stdout",
     "output_type": "stream",
     "text": [
      "The number of employees in TCS is 25412651\n"
     ]
    }
   ],
   "source": [
    "f = input(\"Enter a company name - \")\n",
    "g = input(\"Enter the number of employees - \")\n",
    "h = \"The number of employees in {} is {}\".format(f,g)\n",
    "print(h)"
   ]
  },
  {
   "cell_type": "code",
   "execution_count": null,
   "metadata": {},
   "outputs": [],
   "source": [
    "fn = input(\"enter first name: \")\n",
    "ln = input(\"enter last name: \")\n",
    "age = int(input(\"Enter age of User: \"))\n",
    "Gender = input(\"Enter Gender of User\")\n",
    "Country = input(\"Enter Country of Origin of User: \")\n",
    "a = \"{} {} is a {}-year old {} from {}\".format(fn, ln, age, Gender, Country).title()\n",
    "print(a)"
   ]
  }
 ],
 "metadata": {
  "kernelspec": {
   "display_name": "Python 3",
   "language": "python",
   "name": "python3"
  },
  "language_info": {
   "codemirror_mode": {
    "name": "ipython",
    "version": 3
   },
   "file_extension": ".py",
   "mimetype": "text/x-python",
   "name": "python",
   "nbconvert_exporter": "python",
   "pygments_lexer": "ipython3",
   "version": "3.10.13"
  }
 },
 "nbformat": 4,
 "nbformat_minor": 2
}
